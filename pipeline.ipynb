{
 "cells": [
  {
   "cell_type": "code",
   "execution_count": 1,
   "metadata": {},
   "outputs": [
    {
     "name": "stdout",
     "output_type": "stream",
     "text": [
      "With GPU: False\n",
      "/home1/wliu4877/.conda/envs/vhpredictor/lib/python3.12/site-packages/esm/pretrained.py:70: FutureWarning: You are using `torch.load` with `weights_only=False` (the current default value), which uses the default pickle module implicitly. It is possible to construct malicious pickle data which will execute arbitrary code during unpickling (See https://github.com/pytorch/pytorch/blob/main/SECURITY.md#untrusted-models for more details). In a future release, the default value for `weights_only` will be flipped to `True`. This limits the functions that could be executed during unpickling. Arbitrary objects will no longer be allowed to be loaded via this mode unless they are explicitly allowlisted by the user via `torch.serialization.add_safe_globals`. We recommend you start setting `weights_only=True` for any use case where you don't have full control of the loaded file. Please open an issue on GitHub for any issues related to this experimental feature.\n",
      "  model_data = torch.load(str(model_location), map_location=\"cpu\")\n",
      "/home1/wliu4877/.conda/envs/vhpredictor/lib/python3.12/site-packages/esm/pretrained.py:74: FutureWarning: You are using `torch.load` with `weights_only=False` (the current default value), which uses the default pickle module implicitly. It is possible to construct malicious pickle data which will execute arbitrary code during unpickling (See https://github.com/pytorch/pytorch/blob/main/SECURITY.md#untrusted-models for more details). In a future release, the default value for `weights_only` will be flipped to `True`. This limits the functions that could be executed during unpickling. Arbitrary objects will no longer be allowed to be loaded via this mode unless they are explicitly allowlisted by the user via `torch.serialization.add_safe_globals`. We recommend you start setting `weights_only=True` for any use case where you don't have full control of the loaded file. Please open an issue on GitHub for any issues related to this experimental feature.\n",
      "  regression_data = torch.load(regression_location, map_location=\"cpu\")\n",
      "Read example/virus_protein.fasta with 3 sequences\n",
      "Processing 1 of 1 batches (3 sequences)\n",
      "Get embedding from layer 33\n",
      "\u001b[32m[I 250106 10:20:59 embedding_generate:82]\u001b[39m Bad message (TypeError('not all arguments converted during string formatting')): {'name': 'logzero_default', 'msg': 'Protein embedding generation time cost:', 'args': (509.3549015522003, 's'), 'levelname': 'INFO', 'levelno': 20, 'pathname': '/project/qcb_640/weiliu/VHPredictor/vhpredictor/embedding_generate.py', 'filename': 'embedding_generate.py', 'module': 'embedding_generate', 'exc_info': None, 'exc_text': None, 'stack_info': None, 'lineno': 82, 'funcName': '<module>', 'created': 1736187659.088644, 'msecs': 88.0, 'relativeCreated': 522286.8285179138, 'thread': 140078127351616, 'threadName': 'MainThread', 'processName': 'MainProcess', 'process': 21219, 'taskName': None}\n",
      "\u001b[32m[I 250106 10:20:59 util:150]\u001b[39m Embeddings Loaded from example/embedding/virusprotein_embedding.pkl.\n",
      "\u001b[32m[I 250106 10:20:59 embedding_generate:112]\u001b[39m Computed mean embeddings for 1 viruses.\n",
      "\u001b[32m[I 250106 10:20:59 embedding_generate:119]\u001b[39m Total number of virus proteins originally: 3\n",
      "\u001b[32m[I 250106 10:20:59 embedding_generate:120]\u001b[39m Total number of virus proteins collected: 3\n",
      "\u001b[32m[I 250106 10:20:59 embedding_generate:121]\u001b[39m Total number of viruses with computed embeddings: 1\n"
     ]
    }
   ],
   "source": [
    "#esm embedding generation\n",
    "!python vhpredictor/embedding_generate.py \\\n",
    "-emp 'vhpredictor_data/model/esm1b/esm1b_t33_650M_UR50S.pt' \\\n",
    "-f 'example/virus_protein.fasta' \\\n",
    "-pe 'example/embedding/virusprotein_embedding.pkl' \\\n",
    "-ve 'example/embedding/virus_embedding.pkl' \\\n",
    "--nogpu"
   ]
  },
  {
   "cell_type": "code",
   "execution_count": 2,
   "metadata": {},
   "outputs": [
    {
     "name": "stdout",
     "output_type": "stream",
     "text": [
      "\u001b[32m[I 250106 11:14:16 vhpredictor_label_test:352]\u001b[39m # Testing VHPredictor: model_path=vhpredictor_data/model/vhpredictor/vhpredictor_virus_central, model_type=Virus-Central, output_path=example/result/, top=10\n",
      "\u001b[32m[I 250106 11:14:16 vhpredictor_label_test:120]\u001b[39m # Starting prediction for VHPredictor model in vhpredictor_data/model/vhpredictor/vhpredictor_virus_central\n",
      "\u001b[32m[I 250106 11:14:16 vhpredictor_label_test:124]\u001b[39m Model Type = Virus-Central\n",
      "\u001b[32m[I 250106 11:14:16 util:150]\u001b[39m Embeddings Loaded from example/embedding/virus_embedding.pkl.\n",
      "Label index successfully loaded from vhpredictor_data/vhdb/host_label_index\n",
      "\u001b[32m[I 250106 11:14:16 vhpredictor_label_test:131]\u001b[39m # Total label size: 4705\n",
      "\u001b[32m[I 250106 11:14:16 vhpredictor_label_test:148]\u001b[39m Using CPU for prediction\n",
      "/project/qcb_640/weiliu/VHPredictor/./vhpredictor/vhpredictor_label_test.py:30: FutureWarning: You are using `torch.load` with `weights_only=False` (the current default value), which uses the default pickle module implicitly. It is possible to construct malicious pickle data which will execute arbitrary code during unpickling (See https://github.com/pytorch/pytorch/blob/main/SECURITY.md#untrusted-models for more details). In a future release, the default value for `weights_only` will be flipped to `True`. This limits the functions that could be executed during unpickling. Arbitrary objects will no longer be allowed to be loaded via this mode unless they are explicitly allowlisted by the user via `torch.serialization.add_safe_globals`. We recommend you start setting `weights_only=True` for any use case where you don't have full control of the loaded file. Please open an issue on GitHub for any issues related to this experimental feature.\n",
      "  model.load_state_dict(torch.load(model_path, map_location=device))\n",
      "\u001b[32m[I 250106 11:14:16 vhpredictor_label_test:33]\u001b[39m PyTorch model loaded successfully.\n",
      "\u001b[32m[I 250106 11:14:16 vhpredictor_label_test:289]\u001b[39m Virus-level predicted labels saved to example/result/vhpredictor_virus_central_virus_label\n",
      "\u001b[32m[I 250106 11:14:16 vhpredictor_label_test:305]\u001b[39m Virus-level predicted probabilities saved to example/result/vhpredictor_virus_central_virus_probability\n",
      "\u001b[32m[I 250106 11:14:16 vhpredictor_label_test:311]\u001b[39m Virusprotein MLP embeddings saved to example/result/vhpredictor_virus_central_virusprotein_label_embedding.pkl\n"
     ]
    }
   ],
   "source": [
    "!python ./vhpredictor/vhpredictor_label_test.py \\\n",
    "-m 'vhpredictor_data/model/vhpredictor/vhpredictor_virus_central' \\\n",
    "-mt 'Virus-Central' \\\n",
    "-ep 'example/embedding/virus_embedding.pkl' \\\n",
    "-lip 'vhpredictor_data/vhdb/host_label_index' \\\n",
    "-olp 'example/result/'"
   ]
  },
  {
   "cell_type": "code",
   "execution_count": 1,
   "metadata": {},
   "outputs": [
    {
     "name": "stdout",
     "output_type": "stream",
     "text": [
      "Norovirus Hu/GII.4/Hong Kong/CUHK6080/2012/CHN\tHomo sapiens\t0.9929\n",
      "Norovirus Hu/GII.4/Hong Kong/CUHK6080/2012/CHN\tChlorocebus aethiops\t0.0031\n",
      "Norovirus Hu/GII.4/Hong Kong/CUHK6080/2012/CHN\tMacaca mulatta\t0.0018\n",
      "Norovirus Hu/GII.4/Hong Kong/CUHK6080/2012/CHN\tPan troglodytes\t0.0012\n",
      "Norovirus Hu/GII.4/Hong Kong/CUHK6080/2012/CHN\tSus scrofa\t0.0011\n",
      "Norovirus Hu/GII.4/Hong Kong/CUHK6080/2012/CHN\tMus musculus\t0.0010\n",
      "Norovirus Hu/GII.4/Hong Kong/CUHK6080/2012/CHN\tChlorocebus sabaeus\t0.0004\n",
      "Norovirus Hu/GII.4/Hong Kong/CUHK6080/2012/CHN\tBos taurus\t0.0003\n",
      "Norovirus Hu/GII.4/Hong Kong/CUHK6080/2012/CHN\tMyodes glareolus\t0.0002\n",
      "Norovirus Hu/GII.4/Hong Kong/CUHK6080/2012/CHN\tFelis catus\t0.0002\n"
     ]
    }
   ],
   "source": [
    "!cat example/result/vhpredictor_virus_central_virus_probability"
   ]
  },
  {
   "cell_type": "code",
   "execution_count": 2,
   "metadata": {},
   "outputs": [
    {
     "name": "stdout",
     "output_type": "stream",
     "text": [
      "Norovirus Hu/GII.4/Hong Kong/CUHK6080/2012/CHN\tHomo sapiens\n"
     ]
    }
   ],
   "source": [
    "!cat example/result/vhpredictor_virus_central_virus_label"
   ]
  }
 ],
 "metadata": {
  "kernelspec": {
   "display_name": "Python 3.12.2 (default)",
   "language": "python",
   "name": "python3"
  },
  "language_info": {
   "codemirror_mode": {
    "name": "ipython",
    "version": 3
   },
   "file_extension": ".py",
   "mimetype": "text/x-python",
   "name": "python",
   "nbconvert_exporter": "python",
   "pygments_lexer": "ipython3",
   "version": "3.12.5"
  }
 },
 "nbformat": 4,
 "nbformat_minor": 4
}
